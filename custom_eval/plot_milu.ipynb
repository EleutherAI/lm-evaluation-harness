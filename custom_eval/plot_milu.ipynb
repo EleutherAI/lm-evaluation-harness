{
 "cells": [
  {
   "cell_type": "code",
   "execution_count": null,
   "id": "df58725e",
   "metadata": {},
   "outputs": [],
   "source": [
    "import matplotlib.pyplot as plt\n",
    "import seaborn as sns\n",
    "import os\n",
    "import json"
   ]
  },
  {
   "cell_type": "code",
   "execution_count": null,
   "id": "52a0c3f7",
   "metadata": {},
   "outputs": [],
   "source": [
    "scores = {}\n",
    "\n",
    "for dirname in sorted(os.listdir('results')):\n",
    "    if dirname.startswith(\"__datadisk\"):\n",
    "        model_name = dirname.split(\"__\")[-2] + \"**\"\n",
    "    else:\n",
    "        model_name = dirname.split(\"__\")[-1]\n",
    "    \n",
    "    for fname in sorted(os.listdir(os.path.join('results', dirname))):\n",
    "        if fname.startswith(\"results\"):\n",
    "            with open(os.path.join('results', dirname, fname), 'r', encoding='utf-8') as f:\n",
    "                acc = json.load(f)[\"results\"][\"milu\"]['acc,none']\n",
    "\n",
    "    # store the score\n",
    "    scores[model_name] = acc\n",
    "\n",
    "# sort the scores\n",
    "sorted_scores = sorted(scores.items(), key=lambda x: x[1], reverse=True)\n",
    "names = [name for name, acc in sorted_scores]\n",
    "accs  = [acc  for name, acc in sorted_scores]\n",
    "\n",
    "sns.set(style=\"whitegrid\")\n",
    "plt.figure(figsize=(10, 6))\n",
    "sns.despine(left=True, bottom=True)\n",
    "\n",
    "ax = sns.barplot(x=accs, y=names, palette=\"Blues_d\", edgecolor=\".2\")\n",
    "for i, (name, acc) in enumerate(sorted_scores):\n",
    "    ax.text(acc + 0.01, i, f\"{acc:.2f}\", color='black', ha=\"left\", va=\"center\")\n",
    "\n",
    "# add a title and labels\n",
    "ax.set_title('Model Accuracy Comparison', fontsize=16)\n",
    "ax.set_xlabel('Accuracy', fontsize=14)\n",
    "ax.set_ylabel('Model Name', fontsize=14)\n",
    "# add a grid\n",
    "ax.grid(axis='x', linestyle='--', alpha=0.7)\n",
    "plt.tight_layout()\n",
    "plt.show()"
   ]
  }
 ],
 "metadata": {
  "kernelspec": {
   "display_name": "py_3.12",
   "language": "python",
   "name": "python3"
  },
  "language_info": {
   "codemirror_mode": {
    "name": "ipython",
    "version": 3
   },
   "file_extension": ".py",
   "mimetype": "text/x-python",
   "name": "python",
   "nbconvert_exporter": "python",
   "pygments_lexer": "ipython3",
   "version": "3.12.9"
  }
 },
 "nbformat": 4,
 "nbformat_minor": 5
}
