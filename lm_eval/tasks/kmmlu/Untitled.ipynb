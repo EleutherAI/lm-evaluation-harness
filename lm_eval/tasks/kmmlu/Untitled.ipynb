{
 "cells": [
  {
   "cell_type": "code",
   "execution_count": 32,
   "id": "9b9853bc-81d6-4d6b-8656-17a124c4d7fb",
   "metadata": {},
   "outputs": [],
   "source": [
    "import os\n",
    "\n",
    "method = \"log_prob\" \n",
    "for fp in os.listdir(method):\n",
    "    if fp.startswith(\"kmmlu\"):\n",
    "        with open(f'{method}/{fp}', 'r') as file:\n",
    "            data = yaml.safe_load(file)\n",
    "\n",
    "        \n",
    "        data[\"include\"] =  f\"_{method}_kmmlu_yaml\"\n",
    "        data[\"task\"] = f\"kmmlu_{method}_\" + data[\"dataset_name\"].lower().replace(\"-\",\"_\") \n",
    "        \n",
    "        with open(f'{method}/{fp}', 'w') as file:\n",
    "            yaml.dump(data, file)"
   ]
  },
  {
   "cell_type": "code",
   "execution_count": 24,
   "id": "ef52377d-28d3-4ed2-998b-c4aeba0dfb1f",
   "metadata": {},
   "outputs": [
    {
     "data": {
      "text/plain": [
       "['kmmlu_direct_og_', '_aritime_engineering']"
      ]
     },
     "execution_count": 24,
     "metadata": {},
     "output_type": "execute_result"
    }
   ],
   "source": [
    "data[\"task\"].split(\"prob\")"
   ]
  },
  {
   "cell_type": "code",
   "execution_count": 27,
   "id": "437ad379-ddfc-4aa2-abc9-bdba9c5545d3",
   "metadata": {},
   "outputs": [
    {
     "data": {
      "text/plain": [
       "'kmmlu_direct_og_prob_aritime_engineering'"
      ]
     },
     "execution_count": 27,
     "metadata": {},
     "output_type": "execute_result"
    }
   ],
   "source": [
    "data[\"task\"]"
   ]
  },
  {
   "cell_type": "code",
   "execution_count": 30,
   "id": "5f584214-11ac-4bde-a4b7-59a3fd1c160a",
   "metadata": {},
   "outputs": [
    {
     "data": {
      "text/plain": [
       "'maritime_engineering'"
      ]
     },
     "execution_count": 30,
     "metadata": {},
     "output_type": "execute_result"
    }
   ],
   "source": []
  },
  {
   "cell_type": "code",
   "execution_count": null,
   "id": "c822a162-7013-4844-a884-26c78c49ea6f",
   "metadata": {},
   "outputs": [],
   "source": []
  }
 ],
 "metadata": {
  "kernelspec": {
   "display_name": "Python 3 (ipykernel)",
   "language": "python",
   "name": "python3"
  },
  "language_info": {
   "codemirror_mode": {
    "name": "ipython",
    "version": 3
   },
   "file_extension": ".py",
   "mimetype": "text/x-python",
   "name": "python",
   "nbconvert_exporter": "python",
   "pygments_lexer": "ipython3",
   "version": "3.12.1"
  }
 },
 "nbformat": 4,
 "nbformat_minor": 5
}
